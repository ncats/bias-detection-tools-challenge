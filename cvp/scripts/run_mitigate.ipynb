{
 "cells": [
  {
   "cell_type": "markdown",
   "id": "19708e39",
   "metadata": {},
   "source": [
    "# Example Mitigation Run"
   ]
  },
  {
   "cell_type": "markdown",
   "id": "06bc2d6a",
   "metadata": {},
   "source": [
    "### Import main libraries and the mitigate_disparity module"
   ]
  },
  {
   "cell_type": "code",
   "execution_count": null,
   "id": "4cd41c08",
   "metadata": {},
   "outputs": [],
   "source": [
    "import platform\n",
    "import os\n",
    "import logging\n",
    "from datetime import datetime\n",
    "import pandas as pd\n",
    "import numpy as np\n",
    "from sklearn.model_selection import train_test_split\n",
    "import mitigate_disparity as mit"
   ]
  },
  {
   "cell_type": "markdown",
   "id": "f9404c45",
   "metadata": {},
   "source": [
    "### Prepare paths, load data, and split data into train and test dataframes"
   ]
  },
  {
   "cell_type": "code",
   "execution_count": null,
   "id": "79a0dca8",
   "metadata": {},
   "outputs": [],
   "source": [
    "# Define OS\n",
    "try: \n",
    "    op_sys = platform.system()\n",
    "except Exception as e:\n",
    "    print('Error:', e)"
   ]
  },
  {
   "cell_type": "code",
   "execution_count": null,
   "id": "2091cb03",
   "metadata": {},
   "outputs": [],
   "source": [
    "# Define Input Data Paths for OS\n",
    "in_data_directory_linux_unix = r'../data'\n",
    "in_data_directory_windows = r'..\\data'\n",
    "\n",
    "# Load Data (IF USER IS NOT PASSING DATAFRAME INTO METHOD)\n",
    "if op_sys == 'Windows':\n",
    "    input_df = pd.read_csv(os.path.join(in_data_directory_windows, 'diabetes_data.csv'))\n",
    "elif op_sys == 'Linux' or op_sys == 'Darwin':\n",
    "    input_df = pd.read_csv(os.path.join(in_data_linux_unix, 'diabetes_data.csv'))\n",
    "else: print('Error: Unknown OS!')    \n",
    "train_df, test_df = train_test_split(input_df, test_size=0.4, random_state=42)"
   ]
  },
  {
   "cell_type": "markdown",
   "id": "cb0991f0",
   "metadata": {},
   "source": [
    "### Set values that will be referenced by the Mitigator class and its methods"
   ]
  },
  {
   "cell_type": "code",
   "execution_count": null,
   "id": "420bcd4d",
   "metadata": {},
   "outputs": [],
   "source": [
    "# CRITICAL: Enter column names as a list of each demographic feature (as strings) you want to measure social fairness for\n",
    "## NOTE: CATEGORICAL FEATURES MUST BE CODED AS INTEGERS\n",
    "protected_features = ['race','age','gender']\n",
    "\n",
    "\n",
    "# CRITICAL: List all features that will be input into the LightGBM model as predictors\n",
    "model_features = ['admission_type_id', 'discharge_disposition_id', 'admission_source_id',\n",
    "                  'time_in_hospital', 'num_lab_procedures', 'num_procedures',\n",
    "                  'num_medications', 'number_outpatient', 'number_emergency',\n",
    "                  'number_inpatient', 'number_diagnoses', 'max_glu_serum', 'A1Cresult',\n",
    "                  'change', 'diabetesMed', 'service_utilization',\n",
    "                  'numchange', 'repaglinide_', 'nateglinide_', 'chlorpropamide_',\n",
    "                  'acetohexamide_', 'tolbutamide_', 'acarbose_', 'miglitol_',\n",
    "                  'troglitazone_', 'tolazamide_', 'insulin_', 'metformin_', 'glyburide_',\n",
    "                  'glipizide_', 'glimepiride_', 'pioglitazone_', 'rosiglitazone_',\n",
    "                  'glyburide-metformin_', 'glipizide-metformin_',\n",
    "                  'glimepiride-pioglitazone_', 'metformin-rosiglitazone_',\n",
    "                  'metformin-pioglitazone_', 'level1_diag1']\n",
    "\n",
    "# CRITICAL: Model features that are categorical\n",
    "## ## NOTE: CATEGORICAL FEATURES MUST BE CODED AS INTEGERS\n",
    "cat_features = ['admission_type_id', 'discharge_disposition_id', 'admission_source_id']\n",
    "\n",
    "# CRITICAL: Enter column name of true label value\n",
    "y_bar = 'readmitted'\n",
    "\n",
    "# CRTIICAL: Enter column name of sample weights\n",
    "samp_weight = 'sw'\n",
    "\n",
    "# CRITICAL: Set LightGBM Train Parameters\n",
    "train_params = {\n",
    "                \"objective\": \"binary\",\n",
    "                \"metric\": \"binary_error\",\n",
    "                \"verbosity\": -1,\n",
    "                \"boosting_type\": \"gbdt\",\n",
    "                \"seed\": 538,\n",
    "                \"learning_rate\": .1,\n",
    "                'num_leaves': 2, \n",
    "    } "
   ]
  },
  {
   "cell_type": "markdown",
   "id": "82f947f7",
   "metadata": {},
   "source": [
    "### Initialize Mitigator class instance and save as object"
   ]
  },
  {
   "cell_type": "code",
   "execution_count": null,
   "id": "6e8a2943",
   "metadata": {},
   "outputs": [],
   "source": [
    "mitigator = mit.Mitigator(protected_features, model_features, cat_features, y_bar, samp_weight)"
   ]
  },
  {
   "cell_type": "markdown",
   "id": "5e746b2c",
   "metadata": {},
   "source": [
    "### Run transform method to rebalance the train dataframe using SMOTE and Tomek Links"
   ]
  },
  {
   "cell_type": "code",
   "execution_count": null,
   "id": "d5554c99",
   "metadata": {},
   "outputs": [],
   "source": [
    "data_smote = mitigator.transform(train_df)"
   ]
  },
  {
   "cell_type": "markdown",
   "id": "6b223fae",
   "metadata": {},
   "source": [
    "### Fit model to rebalanced dataframe and optionally pass LightGBM model parameters different that the default Mitigator class attribute. Returns model object."
   ]
  },
  {
   "cell_type": "code",
   "execution_count": null,
   "id": "7f963a73",
   "metadata": {},
   "outputs": [],
   "source": [
    "model1 = mitigator.fit(data_smote, train_params)"
   ]
  },
  {
   "cell_type": "markdown",
   "id": "0abe1d70",
   "metadata": {},
   "source": [
    "### Predict on test dataframe with the previously saved model"
   ]
  },
  {
   "cell_type": "markdown",
   "id": "96af33e9",
   "metadata": {},
   "source": [
    "Ignore RuntimeWarning as they are expected when calculating the metrics at certain values of possible thresholds"
   ]
  },
  {
   "cell_type": "code",
   "execution_count": null,
   "id": "2cecc49c",
   "metadata": {
    "scrolled": true
   },
   "outputs": [],
   "source": [
    "predictions = mitigator.predict(model1, test_df)"
   ]
  },
  {
   "cell_type": "markdown",
   "id": "6780c2f2",
   "metadata": {},
   "source": [
    "### Create a mitigate_report.html by running the same measurement analysis on the mitigated predictions as is done on initial measure_disparity.py. measure() method also results in a dataframe with all metric values for all protected feature groups"
   ]
  },
  {
   "cell_type": "code",
   "execution_count": null,
   "id": "43c2375f",
   "metadata": {},
   "outputs": [],
   "source": [
    "measurement = mitigator.measure(predictions)"
   ]
  },
  {
   "cell_type": "code",
   "execution_count": null,
   "id": "c9a3a4b3",
   "metadata": {},
   "outputs": [],
   "source": [
    "measurement.head()"
   ]
  },
  {
   "cell_type": "code",
   "execution_count": null,
   "id": "1c4b0d2c",
   "metadata": {},
   "outputs": [],
   "source": []
  }
 ],
 "metadata": {
  "kernelspec": {
   "display_name": "Python 3 (ipykernel)",
   "language": "python",
   "name": "python3"
  },
  "language_info": {
   "codemirror_mode": {
    "name": "ipython",
    "version": 3
   },
   "file_extension": ".py",
   "mimetype": "text/x-python",
   "name": "python",
   "nbconvert_exporter": "python",
   "pygments_lexer": "ipython3",
   "version": "3.7.3"
  }
 },
 "nbformat": 4,
 "nbformat_minor": 5
}
